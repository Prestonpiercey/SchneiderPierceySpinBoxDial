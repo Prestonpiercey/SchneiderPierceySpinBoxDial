{
 "cells": [
  {
   "cell_type": "markdown",
   "metadata": {},
   "source": [
    "# DIALS AND BOXES!"
   ]
  },
  {
   "cell_type": "markdown",
   "metadata": {},
   "source": [
    "## This is a program that demonstrates the usage of signals and slots in PyQt"
   ]
  },
  {
   "cell_type": "markdown",
   "metadata": {},
   "source": [
    "### It makes use of the high-level communication system built into PyQt, which are commonly referred to as 'signals and slots'. High-level is used because we need to know that something happened, not the details of said incident. Low-level gives more information than is needed."
   ]
  },
  {
   "cell_type": "markdown",
   "metadata": {},
   "source": [
    "#### All QObject supports the \"signals and slots\" mechanism. The signals are always there, but by default are thrown away by Qt.                  To make use of these signals we need to connect them to a slot, which in PyQt is any callable function or method. This makes it             easier to create new slots that were not there originally. "
   ]
  },
  {
   "cell_type": "markdown",
   "metadata": {},
   "source": [
    "#####  This block of code is what imports the modules we need to run our program, sys, which lets us acess to the variables we are going to use within it, and three modules from the module PyQt5. These are .QtCore, .QtGui, and .QtWidgets, which are the core module needed for anything else, the module that allows us to work with GUIs, and the module that gives us the abillity to make widgets for the aforementioned GUIs respectively."
   ]
  },
  {
   "cell_type": "code",
   "execution_count": null,
   "metadata": {},
   "outputs": [],
   "source": [
    "import sys\n",
    "from PyQt5.QtCore import *\n",
    "from PyQt5.QtGui import *\n",
    "from PyQt5.QtWidgets import *"
   ]
  },
  {
   "cell_type": "markdown",
   "metadata": {},
   "source": [
    "##### Here, we define the class Form, which inherits QDialog, i.e. dialog windows, from PyQt5. First we give it the method __init__ as usual."
   ]
  },
  {
   "cell_type": "code",
   "execution_count": null,
   "metadata": {},
   "outputs": [],
   "source": [
    "class Form(QDialog):\n",
    "    def __init__(self, parent=None):\n",
    "        super(Form, self).__init__(parent)"
   ]
  },
  {
   "cell_type": "code",
   "execution_count": null,
   "metadata": {},
   "outputs": [],
   "source": [
    "        numRange = 5\n",
    "\n",
    "        dial = QDial()\n",
    "        dial.setNotchesVisible(True)\n",
    "        dial.setWrapping(False)\n",
    "        dial.setNotchTarget(numRange/10)\n",
    "        spinbox = QSpinBox()"
   ]
  },
  {
   "cell_type": "code",
   "execution_count": null,
   "metadata": {},
   "outputs": [],
   "source": [
    "        layout = QHBoxLayout()\n",
    "        layout.addWidget(dial)\n",
    "        layout.addWidget(spinbox)\n",
    "        self.setLayout(layout)"
   ]
  },
  {
   "cell_type": "code",
   "execution_count": null,
   "metadata": {},
   "outputs": [],
   "source": [
    "        dial.valueChanged.connect(spinbox.setValue)\n",
    "\n",
    "        spinbox.valueChanged.connect(dial.setValue)"
   ]
  },
  {
   "cell_type": "code",
   "execution_count": null,
   "metadata": {},
   "outputs": [],
   "source": [
    "if __name__ == \"__main__\":\n",
    "    app = QApplication(sys.argv)\n",
    "    form = Form()\n",
    "    form.show()\n",
    "    app.exec_()"
   ]
  }
 ],
 "metadata": {
  "kernelspec": {
   "display_name": "Python 3",
   "language": "python",
   "name": "python3"
  },
  "language_info": {
   "codemirror_mode": {
    "name": "ipython",
    "version": 3
   },
   "file_extension": ".py",
   "mimetype": "text/x-python",
   "name": "python",
   "nbconvert_exporter": "python",
   "pygments_lexer": "ipython3",
   "version": "3.6.2"
  }
 },
 "nbformat": 4,
 "nbformat_minor": 2
}
